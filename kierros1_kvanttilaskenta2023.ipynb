{
 "cells": [
  {
   "cell_type": "markdown",
   "metadata": {},
   "source": [
    "# Tervetuloa kvanttilaskennan lukiokurssille kevät 2023, 4.periodi\n",
    "\n",
    "Kurssi alkaa KE 8.2.2023 klo 15.00 laskuharjoituksella.\n",
    "\n",
    "Luennot KE klo 15.00 - 16.15 ja harjoitukset MA klo 15.00 - 16.15 Espoon lukioiden 8-palkissa Otaniemen lukio, luokka 1318.\n",
    "\n",
    "Luennot ja harjoitukset julkaistaan verkkoon, ulkopaikkakuntalaiset (Espoon ulkopuolelta tulevat) voivat osallistua voi myös etänä. \n",
    "\n",
    "Viikottaisia kokoontumisia on yleensä 2 oppituntia. Keskiviikkoisin on luento ja maanantaisin opastettu laskuharjoitus, tehtävät voi palauttaa viikottain perjantaina klo 16.15 mennessä. Voit siis osallistua kurssille myös siten, että seuraat luentojen harjoitusten tallenteita omalla ajalla.\n",
    "\n",
    "## Luentojen ja laskuharjoitusten Meet-linkki ja tiedottaminen\n",
    "\n",
    "Olet saanut pysyvän Meet-linkin sähköpostiisi tai Wilma-viestillä. Luennoilla ja harjoituksissa käytetään __aina samaa linkkiä__.\n",
    "\n",
    "Seuraa kurssin tiedottamista sähköpostissasi tai Wilma-ryhmässä (Espoon lukiolaiset).\n",
    "\n",
    "## Ohjelmointiympäristön asennus\n",
    "\n",
    "- Asenna python 3.9 versio. Espoon lukiokannettavissa tämä on valmiina.\n",
    "- [Lataa tehtävät](https://github.com/otaniemenlukio/kvanttilaskenta-kierros1/archive/refs/heads/main.zip)\n",
    "- Pura tehtäväkansio haluaamaasi kansioon\n",
    "- Avaa VSCode ja avaa työkirja `kierros1_kvanttilaskenta2023.ipynb`\n",
    "- Avaa integroitu terminaali VSCodessa näppäinkombinaatiolla `CTRL-SHIFT-Ö`\n",
    "- Suorita terminaalissa komento `pip install qiskit qiskit[visualization]`\n",
    "- \n",
    "\n",
    "Asennus lukiolaiskannettavaan on yritettävä tehdä ilman hallinnon admin-tunnuksia. Jos asennus ei onnistu, niin ole yhteydessä kurssin ohjaajiin.\n",
    "\n",
    "## Laskuharjoitustehtävien lataaminen ja palautus\n",
    "\n",
    "Kierroksen materiaalit voi ladata GitHubista zip tiedostona\n",
    "\n",
    "<img src=\"images/ohje_github.png\" width=\"30%\"/>    \n",
    "\n",
    "Tehtävien palautus tehdään tällöin __aina samalla Google Form-lomakkeella__  [Palautuskansio](https://docs.google.com/forms/d/e/1FAIpQLSd_xA5ew5nKVrgi1O5FqB64pRspeCd78bZ_wGUZ-H74nTGZAg/viewform?usp=sf_link) (vaatii kirjautumisen)\n",
    "\n",
    "__Jos et pysty kirjautumaan Google formiin__  edes yksityisellä google-tunnuksellasi, niin lähetä vastauksesi sähköpostilla Matti Heikkiselle osoitteeseen etunimi.sukunimi@opetus.espoo.fi. Viestinotsikkokenttään kierroksen numero ja nimesi. Esim. Kvanttilaskenta2023 Kierros1 Matti Mallikas"
   ]
  },
  {
   "cell_type": "markdown",
   "metadata": {},
   "source": [
    "### Johdantoesimerkki 1 Jupyter-notebookin suorittaminen\n",
    "Kerrataan pythonin perusteet\n",
    "int muuttujat  luku1 ja luku2 saavat alkuarvot\n",
    "Komennolla print tulostetaan näytölle\n",
    "suorita ohjelma yläpaneelista painamalla \"run\"\n",
    "\n",
    "![run](images/run.png)\n",
    "\n",
    "Testaa myös mitä muista yläpaneelin pikanäppäimistä tapahtuu. Muista talentaa tiedostosi. Klikkaa lopuksi auki tämä solu, jossa on kuva yläpaneelista. Tämä solu ei ole koodiblokki, vaan markdown-kenttä. Huomaa ero."
   ]
  },
  {
   "cell_type": "markdown",
   "metadata": {},
   "source": [
    "### Johdantosimerkki 2 python-koodin suorittamisesta\n",
    "\n",
    "Testaa koodia vaihtamalla muuttujien luku1 ja luku2 arvoja. Tavoite on vain harjoitella Jupyter-notebookin käyttöä. \n",
    "Solun voi suorittaa myös painamalla ctrl+enter."
   ]
  },
  {
   "cell_type": "code",
   "execution_count": null,
   "metadata": {},
   "outputs": [],
   "source": [
    "# Tämä rivi on kommentti, harjoitellaan python -solun suorittamista\n",
    "# suorita python -koodia sisältävä solu esimerkiksi painamalla ctrl+enter\n",
    "luku1 = 4\n",
    "luku2 = 6\n",
    "print(\"Valitut luvut ovat\", luku1, \"ja\", luku2)"
   ]
  },
  {
   "cell_type": "markdown",
   "metadata": {},
   "source": [
    "### Numpy kirjaston tuominen Notebook-ympäristöön\n",
    "Numpy kirjasto pitää olla tuotuna ympäristöön, jotta numpy vektorit ja matriisit toimivat. Suorita alla oleva solu."
   ]
  },
  {
   "cell_type": "code",
   "execution_count": null,
   "metadata": {},
   "outputs": [],
   "source": [
    "# ctrl+enter\n",
    "import numpy as np\n",
    "from qiskit import *\n",
    "print(\"Numpy kirjasto on nyt käytössä.\")"
   ]
  },
  {
   "cell_type": "markdown",
   "metadata": {},
   "source": [
    "# Kierros 1 kvanttilaskennan matematiikkaa\n",
    "\n",
    "Katso alla listatut youtube-videot, niin sinulle muodostuu käsitys kurssilla tarvittavasta matematiikasta ja kvanttifysiikan ilmiöistä.\n",
    "\n",
    "## Kierroksen sisältö\n",
    "\n",
    "- Otsikko 1\n",
    "    - [Tehtävä 1a](#Tehtävä-1a)\n",
    "    - [Tehtävä 1b](#Tehtävä-2a)\n",
    "    - [Tehtävä 1c](#Tehtävä-2b)\n",
    "    - [Tehtävä 1](#Tehtävä-3)\n",
    "    - [Tehtävä 1](#Tehtävä-4)\n",
    "    - [Tehtävä 1](#Tehtävä-5)\n",
    "\n",
    "\n",
    "## Vektorit ja lineaarialgera:\n",
    "Vektorien käyttö ja tulkinta fysiikassa, matematiikassa ja tietotojenkäsittelytieteessä. Kiinnitä huomiota miten vektoreita esitetään pystyvektoreina.\n",
    "\n"
   ]
  },
  {
   "cell_type": "code",
   "execution_count": null,
   "metadata": {},
   "outputs": [],
   "source": [
    "# Koodi tulostaa youtube videon näkyvile\n",
    "# https://youtu.be/fNk_zzaMoSs\n",
    "from IPython.lib.display import YouTubeVideo\n",
    "YouTubeVideo('fNk_zzaMoSs', width=600, height =338 )"
   ]
  },
  {
   "cell_type": "markdown",
   "metadata": {},
   "source": [
    "## Kantavektorit\n",
    "\n",
    "Kaksiuoloitteisen vektoriavaruuden kantavektorit i ja j. Kantavektorien i ja j pituus on 1.\n",
    "\n",
    "Vektorin esitys kaarisulkeilla\n",
    "\n",
    "$$\n",
    "\\bar i = \\begin{pmatrix} 1 \\\\ 0 \\end{pmatrix}\n",
    "$$\n",
    "\n",
    "ja \n",
    "$$\n",
    "\\bar j = \\begin{pmatrix} 0 \\\\ 1 \\end{pmatrix}\n",
    "$$\n",
    "\n",
    "## Vektorin pituus\n",
    "\n",
    "Vektorilla on suunta ja  pituus.\n",
    "\n",
    "![vektori](images/vektori1.jpg)\n",
    "![vektori](images/vektori2.jpg)\n",
    "![vektori](images/vektori3.jpg)\n",
    "\n",
    "Tarkastellaan kuvan vektorin a esitystä:\n",
    "\n",
    "$$\n",
    "\\bar a = \\begin{pmatrix} 3 \\\\ 4 \\end{pmatrix}\n",
    "$$\n",
    "\n",
    "Vektori a kantavektorien i ja j lineaarikombinaationa:\n",
    "\n",
    "$$\n",
    "a = 3i +4j\n",
    "$$\n",
    "\n",
    "\n",
    "\n",
    "Vektorin a pituus lasketaan seuraavasti:\n",
    "$$\n",
    "\\left|a\\right|=\\sqrt{3^2+4^2}=5\n",
    "$$\n",
    "\n",
    "Vektorin a pystyvektoriesitys:\n",
    "\n",
    "$$\n",
    "\\bar a = \\begin{pmatrix} 3 \\\\ 4 \\end{pmatrix}\n",
    "$$\n",
    "\n",
    "\n",
    "\n",
    "Vektorin $b=xi +yj$ pituuden lasku:\n",
    "$$\n",
    "\\left|b\\right|=\\sqrt{x^2+y^2}\n",
    "$$\n"
   ]
  },
  {
   "cell_type": "markdown",
   "metadata": {},
   "source": [
    "## Vektorit pythonissa\n",
    "\n",
    "Vektorin v esitys numpyssa tehdään 2-uloitteisella listalla, joka pythonissa kirjoitetaan\n",
    "\n",
    "```python\n",
    "[[1,2,3],[4,5,6]]\n",
    "```\n",
    "\n",
    "Joka vastaa matriisitaulukkoa\n",
    "\n",
    "$$\n",
    "\\begin{array}{llllllllllll}\n",
    "1 & 2 & 3 \\\\\n",
    "4 & 5 & 6\n",
    "\\end{array}\n",
    "$$\n",
    "\n",
    "Numpyssä indeksöinti alkaa nollasta. Esimerkiksi alkio 6 on indeksillä `1,2`, eli 2. vaakarivi, 3. pystysarake."
   ]
  },
  {
   "cell_type": "code",
   "execution_count": null,
   "metadata": {},
   "outputs": [],
   "source": [
    "# suorita\n",
    "v = np.matrix([[1,2,3], [4,5,6]])\n",
    "print(v)\n",
    "\n",
    "print()\n",
    "\n",
    "# tulostetaan alkio indeksillä 1,0\n",
    "\n",
    "print(\"alkio indeksissä 1,0:\", v[1,2])"
   ]
  },
  {
   "cell_type": "markdown",
   "metadata": {},
   "source": [
    "## Tehtävä 1a\n",
    "\n",
    "Laske vektorin $a= 3i + 4j$ pituus käyttäen indeksöintiä ja pythagoraan lausetta"
   ]
  },
  {
   "cell_type": "code",
   "execution_count": null,
   "metadata": {},
   "outputs": [],
   "source": [
    "a = np.matrix([[3], [4]])"
   ]
  },
  {
   "cell_type": "code",
   "execution_count": null,
   "metadata": {},
   "outputs": [],
   "source": [
    "# Laske vektorin a pituus muuttujaan l\n",
    "l = ____\n",
    "\n",
    "print(f\"Vektorin 3i + 4j pituus {l}\")"
   ]
  },
  {
   "cell_type": "markdown",
   "metadata": {},
   "source": [
    "## Vektorien summa ja skaalaus\n",
    "\n",
    "Vektoreita pystyy lisäämään toisiin vektoreihin. Esimerkiksi 2-ulotteiset vektorit a ja b voidaan lisätä yhteen käyttäen kantavektoreita:\n",
    "\n",
    "$$\n",
    "\\begin{array}{rlllllllllll}\n",
    "\\bar a &=& \\begin{pmatrix} 1 \\\\ 2 \\\\ \\end{pmatrix} \\\\\n",
    "\\bar b &=& \\begin{pmatrix} 3 \\\\ -2 \\\\ \\end{pmatrix} \\\\\n",
    "\\\\~\\\\ \\bar a + \\bar b &=& 1\\bar i + 2\\bar j + 3\\bar i -2\\bar j \\\\\n",
    "&=& 4\\bar i \\\\\n",
    "&=& \\begin{pmatrix} 4 \\\\ 0 \\\\ \\end{pmatrix}\n",
    "\\end{array}\n",
    "$$\n",
    "\n",
    "Vektoria voi skaalata skalaarilla, kuten reaaliluvulla t.\n",
    "\n",
    "$$\n",
    "\\begin{array}{rlllllllllll}\n",
    "t &=& 5 \\\\\n",
    "\\bar a &=& \\begin{pmatrix} 1 \\\\ 2 \\\\ \\end{pmatrix} \\\\\n",
    "ta &=& \\begin{pmatrix} 5 \\\\ 10 \\\\ \\end{pmatrix}\n",
    "\\end{array}\n",
    "$$\n",
    "\n",
    "## Lineaarisuus\n",
    "\n",
    "Vektorien skaalaus skalaarilla on lineaarinen operaatio, joten sen voi tehdä summalle vektoreita niiden summaamisen jälkeen tai levittämällä skalaarin kertojaksi jokaiseen summan termiin.\n",
    "\n",
    "$$\n",
    "t\\cdot (\\bar a + \\bar b) = t\\cdot \\bar a + t\\cdot \\bar b\n",
    "$$\n",
    "\n",
    "Kvanttilaskennassa monet operaatiot, joista opimme myöhemmin, ovat lineaarisia."
   ]
  },
  {
   "attachments": {},
   "cell_type": "markdown",
   "metadata": {},
   "source": [
    "## Tehtävä 1b\n",
    "\n",
    "Laske Pythonilla vektorien a ja b aritmeettinen keskiarvo kaavalla\n",
    "\n",
    "$$ \\frac{\\bar a + \\bar b}2 $$"
   ]
  },
  {
   "cell_type": "code",
   "execution_count": null,
   "metadata": {},
   "outputs": [],
   "source": [
    "a = np.matrix([[1], [3]])\n",
    "b = np.matrix([[3], [1]])\n",
    "\n",
    "# laske keskiarvo muuttujaan avg\n",
    "avg = ____\n",
    "\n",
    "print(\"Keskiarvoksi saatiin\")\n",
    "print(avg)"
   ]
  },
  {
   "cell_type": "markdown",
   "metadata": {},
   "source": [
    "## Vektorien sisätulo\n",
    "\n",
    "Katso alla oleva video, jossa kuvataan miten sisätulo lasketaan ja mikä on sen geometrinen tulkinta."
   ]
  },
  {
   "cell_type": "code",
   "execution_count": null,
   "metadata": {},
   "outputs": [],
   "source": [
    "# Koodi tulostaa youtube videon näkyvile\n",
    "# https://youtu.be/LyGKycYT2v0\n",
    "from IPython.lib.display import YouTubeVideo\n",
    "YouTubeVideo('LyGKycYT2v0', width=600, height =338 )"
   ]
  },
  {
   "attachments": {},
   "cell_type": "markdown",
   "metadata": {},
   "source": [
    "## Tehtävä 1c\n",
    "\n",
    "Ratkaise Pythonilla ovatko vektorit a ja b kohtisuoria, eli niiden välinen pistetulo 0."
   ]
  },
  {
   "cell_type": "code",
   "execution_count": null,
   "metadata": {},
   "outputs": [],
   "source": [
    "# ohjelmoi tähän"
   ]
  },
  {
   "cell_type": "markdown",
   "metadata": {},
   "source": [
    "## Binääriluvut ja lukujen esitys eri kannoissa \n",
    "\n",
    "Tavallisessa desimaalijärjestelmässä luvut esitetään kantaluvun kymmenen potenssien avulla.\n",
    "\n",
    "Luvun kymmenkantaesitys koostuu numeroista $0,1,2 ... 9$, joiden sijainti luvussa ilmaisee numeron suuruusluokan. Esimerkiksi luku $245$ voidaan hajoittaa muotoon:\n",
    "\n",
    "$$\n",
    "\\begin{array}{llllllllllll}\n",
    "245 &=&2\\cdot 100 &+& 4 \\cdot 10 &+& 5\\cdot 1 \\\\\n",
    "&=&2\\cdot 10^{\\color{red}2} &+& 4\\cdot 10^{\\color{red}1} &+& 5\\cdot 10^{\\color{red}0}\n",
    "\\end{array}\n",
    "$$\n",
    "\n",
    "Binääriesityksessä kantaluku on $2$, eli luvun esitys koostuu numeroista $0$ ja $1$. Binääriesityksessä olevia numeroita kutsutaan _biteiksi_. Bitin paikka ilmaisee sen suuruusluokan aivan kuten kymmenkantaesityksessä.\n",
    "\n",
    "Esimerkiksi binäärimuodossa esitetty luku $101$ voidaan hajoittaa summamuotoon seuraavasti:\n",
    "\n",
    "$$\n",
    "101 = 1\\cdot 100 + 0 \\cdot 10 + 1\\cdot 1 \\tag 1\n",
    "$$\n",
    " \n",
    "Luvut $100, 10, 1$ ovat binääriesityksessä, ja vastaavat kymmenkantaesityksessä lukuja $4, 2, 1$. \n",
    "\n",
    "Lukuihin voidaan merkitä niiden esityksen kantaluku alaindeksissä. Kantaluku oletetaan olevan kymmenkantaesityksessä. Esimerkiksi $1_2 = 1_{10}$ ja $10_2 = 2_{10}$. Luku $2_2$ on laiton esitys, koska binääriesityksessä saa esiintyä vain numeroita 0 ja 1.\n",
    "\n",
    "Esitetään ylläoleva summamuoto (1) käyttäen alaindeksejä kantaluvun ilmaisemiseen.\n",
    "\n",
    "$$\n",
    "\\begin{array}{llllllllllll}\n",
    "\\color{darkcyan}1\\color{blue}0\\color{magenta}1_2 &=& \\color{darkcyan}1_2 \\cdot 100_2 &+& \\color{blue}0_2 \\cdot 10_2 &+& \\color{magenta}1_2 \\cdot 1_2 \\\\\n",
    "&=& 1_2 \\cdot 10_2^{\\color{red}{10_2}} &+& 0_2\\cdot 10_2^{\\color{red}{1_2}} &+& 1_2\\cdot 10_2^{\\color{red}{0_2}}\n",
    "\\end{array}\n",
    "$$\n",
    "\n",
    "Muutetaan lausekkeessa olevat luvut binääriesityksestä kymmenkantaesitykseen.\n",
    "\n",
    "$$ 101_2 = 1_{10} \\cdot 2_{10}^{\\color{red}{2_{10}}} + 0_{10} \\cdot 2_{10}^{\\color{red}{1_{10}}} + 1_{10} \\cdot 2_{10}^{\\color{red}{0_{10}}}$$\n",
    " \n",
    "Suoritetaan laskutoimitus. Esimerkiksi termi $2_{10}^{\\color{red}{2_{10}}} = 4_{10}$.\n",
    "\n",
    "$$\n",
    "\\begin{array}{llllllllllll}\n",
    "101_2 &=& 1_{10} \\cdot 4_{10} &+& 0_{10} \\cdot 2_{10} &+& 1_{10} \\cdot 1_{10} \\\\\n",
    "&=& 4_{10} &+& 0_{10} &+& 1_{10} \\\\\n",
    "&=& 5_{10}\n",
    "\\end{array}\n",
    "$$\n",
    "\n",
    "### Esimerkkejä binääriluvuista\n",
    "\n",
    "|Kymmenkantaesitys|Binääriesitys|\n",
    "|-:|:-|\n",
    "|$10_{10}$|$1010_{2}$|\n",
    "|$64_{10}$|$1000000_{2}$|\n",
    "|$100_{10}$|$1100100_{2}$|"
   ]
  },
  {
   "cell_type": "markdown",
   "metadata": {},
   "source": [
    "###  Muunnokset binääriesityksen ja desimaalijärjestelmän välillä pythonissa\n",
    "\n",
    "Tietokoneiden muistissa kaikki digitaalinen informaatio esitetään bittien avulla, bitin tila voi olla joko  $0$ tai $1$. Python-ohjelmointikielessä desimaalijärjestelmän luvun voi muuttaa binääriluvuksi komennolla `bin(kokonaisluku)`. Vastaavasti binääriluvun voi muuttaa desimaalijärjestelmään komennolla `int(binääriluku,2)`. Funktion  2.parametrina annettu luku $2$ ilmaisee, että 1.parametri on binääriluku. Pythonissa etuliite `0b` ilmaisee, että kyseessä on binääriluku. Tällöin esimerkiksi `print`-komento tunnistaa binääriluvun, ja antaa tulosteen desimaalijärjestelmässä. Esimerkkejä:"
   ]
  },
  {
   "cell_type": "code",
   "execution_count": null,
   "metadata": {},
   "outputs": [],
   "source": [
    "# Esimerkki 1.1 suorita koodisolu painamalla run-näppäintä\n",
    "# Tulostetaan binääriluku 11010 eli desimaalijärjestelmän luku 26\n",
    "print(0b11010)"
   ]
  },
  {
   "cell_type": "code",
   "execution_count": null,
   "metadata": {},
   "outputs": [],
   "source": [
    "# Esimerkki 1.2\n",
    "# Annetaan alkuarvo muuttujalle a desimaalijärjestelmässä ja muutetaan luku binääriluvuksi\n",
    "a = 26\n",
    "b = bin(a)\n",
    "print(b)"
   ]
  },
  {
   "cell_type": "code",
   "execution_count": null,
   "metadata": {},
   "outputs": [],
   "source": [
    "# Annetaan muuttujalle b alkuarvo binäärilukuna, etuliite 0b ilmaisee, että kyseessä on binääri\n",
    "b = \"0b11010\" # nyt muuttuja b on merkkijono eli string-tyyppiä\n",
    "a = int(b,2)\n",
    "print(a)\n",
    "# desimaalijärjestelmän luvulla on helppo laskea\n",
    "print(2*a+1)"
   ]
  },
  {
   "attachments": {},
   "cell_type": "markdown",
   "metadata": {},
   "source": [
    "## Tehtävä 1d\n",
    "\n",
    "a) Muunna binääriesitykseen luku $123_{10}$\n",
    "\n",
    "b) Muunna desimaaliesitykseen luku $1011101_{2}$\n",
    "\n",
    "\n",
    "Ratkaise tehtävä ohjelmoimalla pythonilla alla olevaan soluun."
   ]
  },
  {
   "cell_type": "code",
   "execution_count": null,
   "metadata": {},
   "outputs": [],
   "source": [
    "# tehtävä 1b tähän"
   ]
  },
  {
   "attachments": {},
   "cell_type": "markdown",
   "metadata": {},
   "source": [
    "## Tehtävä 41e\n",
    "\n",
    "Lue [johdantoartikkeli Kvanttit horitsontissa sivut 6 -8](https://github.com/otaniemenlukio/kvanttilaskenta2022/blob/main/kierros1/kvantit_horisontissa.pdf)\n",
    "\n",
    "a) Kerro lyhyesti lukemasi artikkelin perusteella, mitä ovat klassisten ja kvanttitietokoneiden oleelliset erot? \n",
    "\n",
    "\n",
    "\n"
   ]
  },
  {
   "cell_type": "markdown",
   "metadata": {},
   "source": [
    "## Tehtävä 5 \n",
    "\n",
    "Harjoitellaan kvanttipiirin määrittelyä ja ohjelmointia pythonilla.\n",
    "\n",
    "Seuraavassa esimerkissä ohjelmoidaan pythonilla yksinkertainen kvanttipiiri, jonka toimintalogiikkaa ei vielä tarvitse täysin ymmärtää. \n",
    "\n",
    "Tehtävän tavoite on tutustua miten kvanttitietokoneen ymmärtämä kvanttipiirin määrittelään pythonin avulla. Piirin toiminta ja keskeiset käsitteet selitetään myöhemmin kurssilla. \n",
    "\n",
    "\n",
    "\n",
    "Kvanttimekaanisella systeemillä jokaisella mahdollisella mitatulla tilalla on tietty todennäköisyys, ja kaikkien eri tilavaihtoehtojen todennäköisyyksien summa on 1.\n",
    "\n",
    "Voit halutessasi ohjelmoida piirin toteutuksen ja ajamisvaiheet itse seuraavan tutoriaalin avulla:\n",
    "\n",
    "<a href=\"https://youtu.be/RrUTwq5jKM4\" target=\"_blank\">IBM:n \"Hello World\"-piirin tutoriaali</a>"
   ]
  },
  {
   "cell_type": "code",
   "execution_count": null,
   "metadata": {},
   "outputs": [],
   "source": [
    "# Jos kirjoitat koodin itse, niin aloita tästä.\n",
    "from qiskit import *"
   ]
  },
  {
   "cell_type": "code",
   "execution_count": null,
   "metadata": {},
   "outputs": [],
   "source": [
    "from qiskit import *\n",
    "\n",
    "circuit = QuantumCircuit(2, 2)\n",
    "\n",
    "%matplotlib inline\n",
    "display(circuit.draw(output='mpl'))\n",
    "\n",
    "# Lisätään Hadamard-portti H \n",
    "circuit.h(0)\n",
    "display(circuit.draw(output='mpl'))\n",
    "\n",
    "# Lisätään kvanttipiiriin CNOT-portti cx()-komennolla\n",
    "circuit.cx(0, 1)\n",
    "display(circuit.draw(output='mpl'))\n",
    "\n",
    "# Mitataan molemmat kubitit, ja tallennetaan tulokset klassiseen rekisteriin\n",
    "circuit.measure([0, 1], [0, 1])\n",
    "display(circuit.draw(output='mpl'))\n",
    "\n",
    "# Simuloidaan piirin toiminta.\n",
    "simulator = Aer.get_backend('qasm_simulator')\n",
    "execute(circuit, backend=simulator)\n",
    "result = execute(circuit, backend=simulator).result()\n",
    "from qiskit.tools.visualization import plot_histogram\n",
    "plot_histogram(result.get_counts(circuit))"
   ]
  },
  {
   "cell_type": "markdown",
   "metadata": {},
   "source": [
    "##  Oppimateriaaleja kierros 1\n",
    "\n",
    "\n",
    "Alla on listattu 1.kierrokseen ja 2.kierrokseen liittyviä lisämateriaalia harrastuneille.\n",
    "\n",
    "Vektorit:\n",
    "\n",
    "\n",
    "\n",
    "<a href =\"https://youtu.be/fNk_zzaMoSs\" target =\"_blank\">Vektorit lineaarialgebrassa</a>\n",
    "\n",
    "\n",
    "<a href =\"https://www.lukemaverkosto.fi/materiaali/valokuvien-matematiikkaa-geogebralla-ja-ohjelmoimalla-osa-1-2/\" target =\"_blank\">Lisätietoa: Vektorit ja Matriisikuvaukset lineaarialgebrassa</a>\n",
    "\n",
    "Kvantti-interferenssi:\n",
    "\n",
    "<a href =\"https://youtu.be/Q1YqgPAtzho\" target =\"_blank\"> Kvantti-interferenssi kaksoisrakokokeessa</a>\n",
    "\n",
    "\n",
    "Kvanttimekaanisen tilan esittäminen fysiikassa:\n",
    "\n",
    "<a href=\"https://youtu.be/MzRCDLre1b4\" target =\"_blank\"> Miten tilavektori esittää fysikaalisen systeemin tilaa.</a>\n",
    "\n",
    "\n",
    "Kompleksiluvut:\n",
    "\n",
    "<a href =\"https://youtu.be/NaL_Cb42WyY\" target =\"_blank\">Kompleksiluvut</a>\n",
    "\n",
    "\n"
   ]
  }
 ],
 "metadata": {
  "kernelspec": {
   "display_name": "Python 3 (ipykernel)",
   "language": "python",
   "name": "python3"
  },
  "language_info": {
   "codemirror_mode": {
    "name": "ipython",
    "version": 3
   },
   "file_extension": ".py",
   "mimetype": "text/x-python",
   "name": "python",
   "nbconvert_exporter": "python",
   "pygments_lexer": "ipython3",
   "version": "3.10.0"
  }
 },
 "nbformat": 4,
 "nbformat_minor": 2
}
