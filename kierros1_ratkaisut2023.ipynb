{
 "cells": [
  {
   "attachments": {},
   "cell_type": "markdown",
   "metadata": {},
   "source": [
    "# Tervetuloa kvanttilaskennan lukiokurssille kevät 2023, 4.periodi\n",
    "\n",
    "Kurssi alkaa KE 8.2.2023 klo 15.00 laskuharjoituksella.\n",
    "\n",
    "Luennot KE klo 15.00 - 16.15 ja harjoitukset MA klo 15.00 - 16.15 Espoon lukioiden 8-palkissa Otaniemen lukio, luokka 1318.\n",
    "\n",
    "Luennot ja harjoitukset julkaistaan verkkoon, ulkopaikkakuntalaiset (Espoon ulkopuolelta tulevat) voivat osallistua voi myös etänä. \n",
    "\n",
    "Viikottaisia kokoontumisia on yleensä 2 oppituntia. Keskiviikkoisin on luento ja maanantaisin opastettu laskuharjoitus, tehtävät voi palauttaa viikottain perjantaina klo 16.15 mennessä. Voit siis osallistua kurssille myös siten, että seuraat luentojen harjoitusten tallenteita omalla ajalla.\n",
    "\n",
    "## Luentojen ja laskuharjoitusten Meet-linkki ja tiedottaminen\n",
    "\n",
    "Olet saanut pysyvän Meet-linkin sähköpostiisi tai Wilma-viestillä. Luennoilla ja harjoituksissa käytetään __aina samaa linkkiä__.\n",
    "\n",
    "Seuraa kurssin tiedottamista sähköpostissasi tai Wilma-ryhmässä (Espoon lukiolaiset).\n",
    "\n",
    "## Ohjelmointiympäristön asennus\n",
    "\n",
    "- Asenna python 3.9 versio [python.org](https://www.python.org/downloads/) sivulta. Espoon lukiokannettavissa tämä on valmiina. [Python 3.9 64-bit exe](https://www.python.org/ftp/python/3.9.7/python-3.9.7-amd64.exe)\n",
    "- Lataa tehtävät GitHubista [suora linkki (main.zip)](https://github.com/otaniemenlukio/kvanttilaskenta-kierros1/archive/refs/heads/main.zip)\n",
    "  - Kierroksen voi ladata GitHub-sivustolta myös selaimella\n",
    "    <img src=\"images/ohje_github.png\" width=\"30%\"/>\n",
    "- Pura tehtäväkansio haluaamaasi kansioon\n",
    "- Avaa VSCode ja avaa työkirja `kierros1_kvanttilaskenta2023.ipynb`\n",
    "- Avaa integroitu terminaali VSCodessa näppäinkombinaatiolla `CTRL-SHIFT-Ö`\n",
    "- Suorita integroidussa terminaalissa komento `pip install qiskit qiskit[visualization]`\n",
    "\n",
    "Asennus lukiolaiskannettavaan yritetään tehdä ilman hallinnon admin-tunnuksia. Jos asennus ei onnistu, niin ole yhteydessä kurssin ohjaajiin.\n",
    "\n",
    "## Laskuharjoitustehtävien palautus \n",
    "\n",
    "Tee tehtävät suoraan tähän työkirjaan.\n",
    "\n",
    "Tehtävien palautus tehdään tällöin __aina samalla Google Form-lomakkeella__  [Palautuskansio](https://docs.google.com/forms/d/e/1FAIpQLSd_xA5ew5nKVrgi1O5FqB64pRspeCd78bZ_wGUZ-H74nTGZAg/viewform?usp=sf_link) (vaatii kirjautumisen)\n",
    "\n",
    "__Jos et pysty kirjautumaan Google formiin__  edes yksityisellä google-tunnuksellasi, niin lähetä vastauksesi sähköpostilla Matti Heikkiselle osoitteeseen etunimi.sukunimi@opetus.espoo.fi. Viestinotsikkokenttään kierroksen numero ja nimesi. Esim. Kvanttilaskenta2023 Kierros1 Matti Mallikas"
   ]
  },
  {
   "cell_type": "markdown",
   "metadata": {},
   "source": [
    "### Johdantoesimerkki 1 Jupyter-notebookin suorittaminen\n",
    "Kerrataan pythonin perusteet\n",
    "int muuttujat  luku1 ja luku2 saavat alkuarvot\n",
    "Komennolla print tulostetaan näytölle\n",
    "suorita ohjelma yläpaneelista painamalla \"run\"\n",
    "\n",
    "![run](images/run.png)\n",
    "\n",
    "Testaa myös mitä muista yläpaneelin pikanäppäimistä tapahtuu. Muista talentaa tiedostosi. Klikkaa lopuksi auki tämä solu, jossa on kuva yläpaneelista. Tämä solu ei ole koodiblokki, vaan markdown-kenttä. Huomaa ero."
   ]
  },
  {
   "cell_type": "code",
   "execution_count": 1,
   "metadata": {},
   "outputs": [
    {
     "name": "stdout",
     "output_type": "stream",
     "text": [
      "Collecting qiskit\n",
      "  Downloading qiskit-0.41.0.tar.gz (14 kB)\n",
      "Collecting qiskit-terra==0.23.1\n",
      "  Downloading qiskit_terra-0.23.1-cp39-cp39-win_amd64.whl (4.6 MB)\n",
      "Collecting qiskit-aer==0.11.2\n",
      "  Downloading qiskit_aer-0.11.2-cp39-cp39-win_amd64.whl (9.6 MB)\n",
      "Collecting qiskit-ibmq-provider==0.20.0\n",
      "  Downloading qiskit_ibmq_provider-0.20.0-py3-none-any.whl (241 kB)\n",
      "Requirement already satisfied: scipy>=1.0 in c:\\users\\matti.heikkinen\\anaconda3\\lib\\site-packages (from qiskit-aer==0.11.2->qiskit) (1.7.1)\n",
      "Requirement already satisfied: numpy>=1.16.3 in c:\\users\\matti.heikkinen\\anaconda3\\lib\\site-packages (from qiskit-aer==0.11.2->qiskit) (1.20.3)\n",
      "Collecting websocket-client<=1.3.3\n",
      "  Downloading websocket_client-1.3.3-py3-none-any.whl (54 kB)\n",
      "Collecting requests-ntlm>=1.1.0\n",
      "  Using cached requests_ntlm-1.1.0-py2.py3-none-any.whl (5.7 kB)\n",
      "Requirement already satisfied: python-dateutil>=2.8.0 in c:\\users\\matti.heikkinen\\anaconda3\\lib\\site-packages (from qiskit-ibmq-provider==0.20.0->qiskit) (2.8.2)\n",
      "Requirement already satisfied: urllib3>=1.21.1 in c:\\users\\matti.heikkinen\\anaconda3\\lib\\site-packages (from qiskit-ibmq-provider==0.20.0->qiskit) (1.26.7)\n",
      "Requirement already satisfied: requests>=2.19 in c:\\users\\matti.heikkinen\\anaconda3\\lib\\site-packages (from qiskit-ibmq-provider==0.20.0->qiskit) (2.26.0)\n",
      "Collecting websockets>=10.0\n",
      "  Downloading websockets-10.4-cp39-cp39-win_amd64.whl (101 kB)\n",
      "Collecting dill>=0.3\n",
      "  Downloading dill-0.3.6-py3-none-any.whl (110 kB)\n",
      "Requirement already satisfied: psutil>=5 in c:\\users\\matti.heikkinen\\anaconda3\\lib\\site-packages (from qiskit-terra==0.23.1->qiskit) (5.8.0)\n",
      "Requirement already satisfied: sympy>=1.3 in c:\\users\\matti.heikkinen\\anaconda3\\lib\\site-packages (from qiskit-terra==0.23.1->qiskit) (1.9)\n",
      "Requirement already satisfied: ply>=3.10 in c:\\users\\matti.heikkinen\\anaconda3\\lib\\site-packages (from qiskit-terra==0.23.1->qiskit) (3.11)\n",
      "Collecting rustworkx>=0.12.0\n",
      "  Downloading rustworkx-0.12.1-cp39-cp39-win_amd64.whl (1.5 MB)\n",
      "Collecting stevedore>=3.0.0\n",
      "  Downloading stevedore-4.1.1-py3-none-any.whl (50 kB)\n",
      "Requirement already satisfied: six>=1.5 in c:\\users\\matti.heikkinen\\anaconda3\\lib\\site-packages (from python-dateutil>=2.8.0->qiskit-ibmq-provider==0.20.0->qiskit) (1.16.0)\n",
      "Requirement already satisfied: certifi>=2017.4.17 in c:\\users\\matti.heikkinen\\anaconda3\\lib\\site-packages (from requests>=2.19->qiskit-ibmq-provider==0.20.0->qiskit) (2021.10.8)\n",
      "Requirement already satisfied: idna<4,>=2.5 in c:\\users\\matti.heikkinen\\anaconda3\\lib\\site-packages (from requests>=2.19->qiskit-ibmq-provider==0.20.0->qiskit) (3.2)\n",
      "Requirement already satisfied: charset-normalizer~=2.0.0 in c:\\users\\matti.heikkinen\\anaconda3\\lib\\site-packages (from requests>=2.19->qiskit-ibmq-provider==0.20.0->qiskit) (2.0.4)\n",
      "Collecting ntlm-auth>=1.0.2\n",
      "  Using cached ntlm_auth-1.5.0-py2.py3-none-any.whl (29 kB)\n",
      "Requirement already satisfied: cryptography>=1.3 in c:\\users\\matti.heikkinen\\anaconda3\\lib\\site-packages (from requests-ntlm>=1.1.0->qiskit-ibmq-provider==0.20.0->qiskit) (3.4.8)\n",
      "Requirement already satisfied: cffi>=1.12 in c:\\users\\matti.heikkinen\\anaconda3\\lib\\site-packages (from cryptography>=1.3->requests-ntlm>=1.1.0->qiskit-ibmq-provider==0.20.0->qiskit) (1.14.6)\n",
      "Requirement already satisfied: pycparser in c:\\users\\matti.heikkinen\\anaconda3\\lib\\site-packages (from cffi>=1.12->cryptography>=1.3->requests-ntlm>=1.1.0->qiskit-ibmq-provider==0.20.0->qiskit) (2.20)\n",
      "Collecting pbr!=2.1.0,>=2.0.0\n",
      "  Downloading pbr-5.11.1-py2.py3-none-any.whl (112 kB)\n",
      "Requirement already satisfied: mpmath>=0.19 in c:\\users\\matti.heikkinen\\anaconda3\\lib\\site-packages (from sympy>=1.3->qiskit-terra==0.23.1->qiskit) (1.2.1)\n",
      "Building wheels for collected packages: qiskit\n",
      "  Building wheel for qiskit (setup.py): started\n",
      "  Building wheel for qiskit (setup.py): finished with status 'done'\n",
      "  Created wheel for qiskit: filename=qiskit-0.41.0-py3-none-any.whl size=12846 sha256=d20790f7b4f299d8e6cdaf82ff022686eacab8065c06ad9a60f8b89a7dd01dcb\n",
      "  Stored in directory: c:\\users\\matti.heikkinen\\appdata\\local\\pip\\cache\\wheels\\48\\c7\\82\\0249cc392d60d625a8e428ae5254ef3623e50de423cb4b33ad\n",
      "Successfully built qiskit\n",
      "Installing collected packages: pbr, stevedore, rustworkx, ntlm-auth, dill, websockets, websocket-client, requests-ntlm, qiskit-terra, qiskit-ibmq-provider, qiskit-aer, qiskit\n",
      "Successfully installed dill-0.3.6 ntlm-auth-1.5.0 pbr-5.11.1 qiskit-0.41.0 qiskit-aer-0.11.2 qiskit-ibmq-provider-0.20.0 qiskit-terra-0.23.1 requests-ntlm-1.1.0 rustworkx-0.12.1 stevedore-4.1.1 websocket-client-1.3.3 websockets-10.4\n",
      "Note: you may need to restart the kernel to use updated packages.\n"
     ]
    },
    {
     "name": "stderr",
     "output_type": "stream",
     "text": [
      "WARNING: qiskit 0.41.0 does not provide the extra 'visualisation'\n"
     ]
    }
   ],
   "source": [
    "%pip install qiskit qiskit[visualization]"
   ]
  },
  {
   "attachments": {},
   "cell_type": "markdown",
   "metadata": {},
   "source": [
    "### Kirjastojen tuominen Jupyter-ympäristöön\n",
    "Numpy-kirjasto kirjasto pitää olla tuotuna ympäristöön, jotta numpy vektorit ja matriisit toimivat. Qiskit-kirjasto sisältää kvanttilaskennan. Suorita alla oleva solu."
   ]
  },
  {
   "cell_type": "code",
   "execution_count": 1,
   "metadata": {},
   "outputs": [
    {
     "name": "stdout",
     "output_type": "stream",
     "text": [
      "Numpy kirjasto on nyt käytössä.\n"
     ]
    }
   ],
   "source": [
    "# ctrl+enter\n",
    "import numpy as np\n",
    "from qiskit import *\n",
    "print(\"Numpy kirjasto on nyt käytössä.\")"
   ]
  },
  {
   "attachments": {},
   "cell_type": "markdown",
   "metadata": {},
   "source": [
    "# Kierros 1 kvanttilaskennan matematiikkaa\n",
    "\n",
    "- Vektorit Pythonissa\n",
    "- Vektorien summa ja skaalaus\n",
    "- Vektorien sisätulo\n",
    "- Binääriluvut ja lukujen esitys eri kannoissa\n",
    "- Kvanttipiirit Qiskitissä\n",
    "\n",
    "## Vektorit ja lineaarialgera:\n",
    "Vektorien käyttö ja tulkinta fysiikassa, matematiikassa ja tietotojenkäsittelytieteessä. Kiinnitä huomiota miten vektoreita esitetään pystyvektoreina.\n",
    "\n"
   ]
  },
  {
   "attachments": {},
   "cell_type": "markdown",
   "metadata": {},
   "source": [
    "### Tehtävä 1a\n",
    "\n",
    "Laske vektorin $a= 3i + 4j$ pituus käyttäen indeksöintiä ja pythagoraan lausetta"
   ]
  },
  {
   "cell_type": "code",
   "execution_count": 8,
   "metadata": {},
   "outputs": [
    {
     "name": "stdout",
     "output_type": "stream",
     "text": [
      "[[3]\n",
      " [4]]\n",
      "3\n",
      "y-komponentti\n",
      "4\n",
      "vektorin a pituus 5.0\n"
     ]
    }
   ],
   "source": [
    "a = np.matrix([[3], [4]])\n",
    "#tulostetaan vektori a\n",
    "print(a)\n",
    "#tulostetaan x komponentti\n",
    "print(a[0,0])\n",
    "print(\"y-komponentti\")\n",
    "print(a[1,0])\n",
    "\n",
    "# kommentti: pontessi operaattori pythonissa **\n",
    "pituus = np.sqrt(a[0,0]**2 + a[1,0]**2)\n",
    "print(\"vektorin a pituus\", pituus)"
   ]
  },
  {
   "cell_type": "code",
   "execution_count": 9,
   "metadata": {},
   "outputs": [
    {
     "name": "stdout",
     "output_type": "stream",
     "text": [
      "Vektorin 3i + 4j pituus 5.0\n"
     ]
    }
   ],
   "source": [
    "# Laske vektorin a pituus muuttujaan l\n",
    "l = np.sqrt(a[0,0]**2 + a[1,0]**2)\n",
    "\n",
    "print(f\"Vektorin 3i + 4j pituus {l}\")"
   ]
  },
  {
   "attachments": {},
   "cell_type": "markdown",
   "metadata": {},
   "source": [
    "### Tehtävä 1b\n",
    "\n",
    "Laske Pythonilla vektorien a ja b aritmeettinen keskiarvo kaavalla\n",
    "\n",
    "$$ \\frac{\\bar a + \\bar b}2 $$"
   ]
  },
  {
   "cell_type": "code",
   "execution_count": 12,
   "metadata": {},
   "outputs": [
    {
     "name": "stdout",
     "output_type": "stream",
     "text": [
      "vektori a:\n",
      "[[1]\n",
      " [3]]\n",
      "vektori b:\n",
      "[[3]\n",
      " [1]]\n",
      "summavektori: [[4]\n",
      " [4]]\n",
      "Keskiarvoksi saatiin\n",
      "[[2.]\n",
      " [2.]]\n"
     ]
    }
   ],
   "source": [
    "a = np.matrix([[1], [3]])\n",
    "b = np.matrix([[3], [1]])\n",
    "\n",
    "print(\"vektori a:\")\n",
    "print(a)\n",
    "\n",
    "print(\"vektori b:\")\n",
    "print(b)\n",
    "\n",
    "print(\"summavektori:\", a+b)\n",
    "# laske keskiarvo muuttujaan avg\n",
    "avg = (a+b)/2\n",
    "\n",
    "print(\"Keskiarvoksi saatiin\")\n",
    "print(avg)"
   ]
  },
  {
   "cell_type": "markdown",
   "metadata": {},
   "source": [
    "## Vektorien sisätulo\n",
    "\n",
    "Katso alla oleva video, jossa kuvataan miten sisätulo lasketaan ja mikä on sen geometrinen tulkinta."
   ]
  },
  {
   "attachments": {},
   "cell_type": "markdown",
   "metadata": {},
   "source": [
    "### Tehtävä 1c\n",
    "\n",
    "Ratkaise Pythonilla ovatko vektorit a ja b kohtisuoria, eli niiden välinen pistetulo 0."
   ]
  },
  {
   "cell_type": "code",
   "execution_count": 17,
   "metadata": {},
   "outputs": [
    {
     "name": "stdout",
     "output_type": "stream",
     "text": [
      "0\n",
      "vektorit ovat kohtisuorassa\n"
     ]
    }
   ],
   "source": [
    "# ohjelmoi tähän, vaihda etumerkkiä\n",
    "a = np.matrix([[1], [-3]])\n",
    "b = np.matrix([[3], [1]])\n",
    "\n",
    "sisatulo = a[0,0]*b[0,0]+a[1,0]*b[1,0]\n",
    "print(sisatulo)\n",
    "\n",
    "if sisatulo == 0:\n",
    "    print(\"vektorit ovat kohtisuorassa\")\n",
    "else:\n",
    "    print(\"vektorit eivät ole kohtisuorassa\")\n"
   ]
  },
  {
   "attachments": {},
   "cell_type": "markdown",
   "metadata": {},
   "source": [
    "## Binääriluvut ja lukujen esitys eri kannoissa \n",
    "\n",
    "Tavallisessa desimaalijärjestelmässä luvut esitetään kantaluvun kymmenen potenssien avulla.\n",
    "\n",
    "Luvun kymmenkantaesitys koostuu numeroista $0,1,2 ... 9$, joiden sijainti luvussa ilmaisee numeron suuruusluokan. Esimerkiksi luku $245$ voidaan hajoittaa muotoon:\n",
    "\n",
    "$$\n",
    "\\begin{array}{llllllllllll}\n",
    "245 &=&2\\cdot 100 &+& 4 \\cdot 10 &+& 5\\cdot 1 \\\\\n",
    "&=&2\\cdot 10^{\\color{red}2} &+& 4\\cdot 10^{\\color{red}1} &+& 5\\cdot 10^{\\color{red}0}\n",
    "\\end{array}\n",
    "$$\n",
    "\n",
    "Binääriesityksessä kantaluku on $2$, eli luvun esitys koostuu numeroista $0$ ja $1$. Binääriesityksessä olevia numeroita kutsutaan _biteiksi_. Bitin paikka ilmaisee sen suuruusluokan aivan kuten kymmenkantaesityksessä.\n",
    "\n",
    "Esimerkiksi binäärimuodossa esitetty luku $101$ voidaan hajoittaa summamuotoon seuraavasti:\n",
    "\n",
    "$$\n",
    "101 = 1\\cdot 100 + 0 \\cdot 10 + 1\\cdot 1 \\tag 1\n",
    "$$\n",
    " \n",
    "Luvut $100, 10, 1$ ovat binääriesityksessä, ja vastaavat kymmenkantaesityksessä lukuja $4, 2, 1$. \n",
    "\n",
    "Lukuihin voidaan merkitä niiden esityksen kantaluku alaindeksissä. Kantaluku oletetaan olevan kymmenkantaesityksessä. Esimerkiksi $1_2 = 1_{10}$ ja $10_2 = 2_{10}$. Luku $2_2$ on laiton esitys, koska binääriesityksessä saa esiintyä vain numeroita 0 ja 1.\n",
    "\n",
    "Esitetään ylläoleva summamuoto (1) käyttäen alaindeksejä kantaluvun ilmaisemiseen.\n",
    "\n",
    "$$\n",
    "\\begin{array}{llllllllllll}\n",
    "{\\color{darkcyan}1}{\\color{blue}0}{\\color{magenta}1}_2 &=& {\\color{darkcyan}1}_2 \\cdot 100_2 &+& {\\color{blue}0}_2 \\cdot 10_2 &+& {\\color{magenta}1}_2 \\cdot 1_2 \\\\\n",
    "&=& 1_2 \\cdot 10_2^{\\color{red}{10_2}} &+& 0_2\\cdot 10_2^{\\color{red}{1_2}} &+& 1_2\\cdot 10_2^{\\color{red}{0_2}}\n",
    "\\end{array}\n",
    "$$\n",
    "\n",
    "Muutetaan lausekkeessa olevat luvut binääriesityksestä kymmenkantaesitykseen.\n",
    "\n",
    "$$ 101_2 = 1_{10} \\cdot 2_{10}^{\\color{red}{2_{10}}} + 0_{10} \\cdot 2_{10}^{\\color{red}{1_{10}}} + 1_{10} \\cdot 2_{10}^{\\color{red}{0_{10}}}$$\n",
    " \n",
    "Suoritetaan laskutoimitus. Esimerkiksi termi $2_{10}^{\\color{red}{2_{10}}} = 4_{10}$.\n",
    "\n",
    "$$\n",
    "\\begin{array}{llllllllllll}\n",
    "101_2 &=& 1_{10} \\cdot 4_{10} &+& 0_{10} \\cdot 2_{10} &+& 1_{10} \\cdot 1_{10} \\\\\n",
    "&=& 4_{10} &+& 0_{10} &+& 1_{10} \\\\\n",
    "&=& 5_{10}\n",
    "\\end{array}\n",
    "$$\n",
    "\n",
    "### Esimerkkejä binääriluvuista\n",
    "\n",
    "|Kymmenkantaesitys|Binääriesitys|\n",
    "|-:|:-|\n",
    "|$10_{10}$|$1010_{2}$|\n",
    "|$64_{10}$|$1000000_{2}$|\n",
    "|$100_{10}$|$1100100_{2}$|"
   ]
  },
  {
   "attachments": {},
   "cell_type": "markdown",
   "metadata": {},
   "source": [
    "###  Muunnokset binääriesityksen ja desimaalijärjestelmän välillä pythonissa\n",
    "\n",
    "Tietokoneiden muistissa kaikki digitaalinen informaatio esitetään bittien avulla, bitin tila voi olla joko  $0$ tai $1$. Python-ohjelmointikielessä desimaalijärjestelmän luvun voi muuttaa binäärilukumerkkijonoksi komennolla `bin(kokonaisluku)`. Vastaavasti binäärimerkkijonon voi muuttaa desimaalijärjestelmään komennolla `int(binääriluku,2)`.\n",
    "\n",
    "`int` funktion toinen argumentti $2$ ilmaisee että ensimmäisenä argumenttina annettu merkkijono on $2$-kantainen luku, eli binääriluku. Pythonissa luvun edessä oleva etuliite `0b` ilmaisee, että kyseessä on binääriluku. `print` kuitenkin tulostaa aina luvun kymmenkantajärjestelmässä."
   ]
  },
  {
   "cell_type": "code",
   "execution_count": 3,
   "metadata": {},
   "outputs": [
    {
     "name": "stdout",
     "output_type": "stream",
     "text": [
      "26\n"
     ]
    }
   ],
   "source": [
    "# Tulostetaan binääriluku 11010 eli desimaalijärjestelmän luku 26\n",
    "print(0b11010)"
   ]
  },
  {
   "cell_type": "code",
   "execution_count": 4,
   "metadata": {},
   "outputs": [
    {
     "name": "stdout",
     "output_type": "stream",
     "text": [
      "0b11010\n",
      "0b10b1\n"
     ]
    }
   ],
   "source": [
    "# Annetaan alkuarvo muuttujalle a ja muutetaan luku binäärimerkkijonoksi\n",
    "a = 26\n",
    "b = bin(a)\n",
    "print(b)\n",
    "\n",
    "# (binääri)merkkijonojen lisääminen yhteen yhdistää merkit peräkkäin\n",
    "a = 1\n",
    "b = bin(a)\n",
    "print(b + b) # 0b10b1"
   ]
  },
  {
   "cell_type": "code",
   "execution_count": 6,
   "metadata": {},
   "outputs": [
    {
     "name": "stdout",
     "output_type": "stream",
     "text": [
      "26\n",
      "53\n"
     ]
    },
    {
     "ename": "ValueError",
     "evalue": "invalid literal for int() with base 2: '0b110100b11010'",
     "output_type": "error",
     "traceback": [
      "\u001b[1;31m---------------------------------------------------------------------------\u001b[0m",
      "\u001b[1;31mValueError\u001b[0m                                Traceback (most recent call last)",
      "\u001b[1;32mC:\\Users\\MATTI~1.HEI\\AppData\\Local\\Temp/ipykernel_15868/3036516281.py\u001b[0m in \u001b[0;36m<module>\u001b[1;34m\u001b[0m\n\u001b[0;32m      7\u001b[0m \u001b[1;33m\u001b[0m\u001b[0m\n\u001b[0;32m      8\u001b[0m \u001b[1;31m# seuraavalla rivillä tapahtuu virhe. 0b110100b11010 ei ole binääriluku\u001b[0m\u001b[1;33m\u001b[0m\u001b[1;33m\u001b[0m\u001b[0m\n\u001b[1;32m----> 9\u001b[1;33m \u001b[0mprint\u001b[0m\u001b[1;33m(\u001b[0m\u001b[0mint\u001b[0m\u001b[1;33m(\u001b[0m\u001b[0mb\u001b[0m \u001b[1;33m+\u001b[0m \u001b[0mb\u001b[0m\u001b[1;33m,\u001b[0m \u001b[1;36m2\u001b[0m\u001b[1;33m)\u001b[0m\u001b[1;33m)\u001b[0m\u001b[1;33m\u001b[0m\u001b[1;33m\u001b[0m\u001b[0m\n\u001b[0m",
      "\u001b[1;31mValueError\u001b[0m: invalid literal for int() with base 2: '0b110100b11010'"
     ]
    }
   ],
   "source": [
    "# Annetaan muuttujalle b alkuarvo binäärilukuna, etuliite 0b ilmaisee, että kyseessä on binääri\n",
    "b = \"0b11010\" # nyt muuttuja b on merkkijono\n",
    "a = int(b,2)\n",
    "print(a)\n",
    "# a on luku, joten sillä voi tehdä aritmetiikkaa\n",
    "print(2*a+1)\n",
    "\n",
    "# seuraavalla rivillä tapahtuu virhe. 0b110100b11010 ei ole binäärilukuS    \n",
    "#print(int(b + b, 2))"
   ]
  },
  {
   "attachments": {},
   "cell_type": "markdown",
   "metadata": {},
   "source": [
    "## Tehtävä 1d\n",
    "\n",
    "a) Muunna binääriesitykseen luku $123_{10}$\n",
    "\n",
    "b) Muunna desimaaliesitykseen luku $1011101_{2}$\n",
    "\n",
    "\n",
    "Ratkaise tehtävä ohjelmoimalla pythonilla alla olevaan soluun."
   ]
  },
  {
   "cell_type": "code",
   "execution_count": 2,
   "metadata": {},
   "outputs": [
    {
     "name": "stdout",
     "output_type": "stream",
     "text": [
      "0b1111011\n",
      "189\n"
     ]
    }
   ],
   "source": [
    "# tehtävä 1b tähän\n",
    "print(bin(123))\n",
    "print(0b10111101)"
   ]
  },
  {
   "attachments": {},
   "cell_type": "markdown",
   "metadata": {},
   "source": [
    "## Tehtävä 1e\n",
    "\n",
    "Lue [johdantoartikkeli Kvanttit horitsontissa sivut 6 -8](https://github.com/otaniemenlukio/kvanttilaskenta2022/blob/main/kierros1/kvantit_horisontissa.pdf)\n",
    "\n",
    "a) Kerro lyhyesti lukemasi artikkelin perusteella, mitä ovat klassisten ja kvanttitietokoneiden oleelliset erot? \n",
    "\n",
    "..."
   ]
  },
  {
   "attachments": {},
   "cell_type": "markdown",
   "metadata": {},
   "source": [
    "Vastaus: Klassisen tietokoneen bittien arvot voivat olla 0 tai 1. \n",
    "\n",
    "Kvanttitietokoneen kubitti voi ennen tilan mittaamista olla arvon 0 ja 1 yhdistelmätilassa. Mittaamisessa kubitin tila valikoituu, ja samalla menetetään informaatiota. Kvanttitietokoneen kubittien välillä on kytkentä, eli lomittuminen (entanglement).\n",
    "\n",
    "Jos kubitin kvanttitilan tila mitataan, saadaan tilastollisia vastauksia, samalla kvanttitila tuhotaan, ts. se ei enää jatka omaa elämäänsä “kvanttimaailmassa”, vaan tilan kannalta kvanttikoherenssi loppuu. Kvanttikone voidaan kuitenkin alustaa uudelleen suorittamaan samaa identtistä “koodia”. Suorittamalla riittävä määrä mittauksia aivan samalla systeemillä, saadaan selville todennäköisimmät lopputilat, joihin kubitit asettautuvat kvanttiporttien vaikutuksesta. Nämä useimmiten esiintyvät tilat ovat kvanttikoneen tulokset. Jos häiriötekijöitä ei onnistuta poistamaan, on lopputuloksissa niin paljon kohinaa, ettei oikeita tuloksia voi enää helposti tunnistaa laskentadatasta.\n"
   ]
  },
  {
   "attachments": {},
   "cell_type": "markdown",
   "metadata": {},
   "source": [
    "### Tehtävä 1f\n",
    "\n",
    "Tehtävä on suorittaa seuraava kvanttipiiriesimerkki. Koodiin ei tarvitse tehdä muutoksia.\n",
    "\n",
    "Huomaa, että kvanttipiirin toimintaa ei vielä tarvitse ymmärtää. Tavoite on tutustua miten kvanttitietokoneiden ohjelmoinnissa käytettävä kvanttipiiri määrittelään Pythonin avulla. Piirin toiminta ja keskeiset käsitteet selitetään myöhemmin kurssilla."
   ]
  },
  {
   "cell_type": "code",
   "execution_count": 18,
   "metadata": {},
   "outputs": [
    {
     "data": {
      "image/png": "[encoded data removed]",
      "text/plain": [
       "<Figure size 116.552x204.68 with 1 Axes>"
      ]
     },
     "metadata": {},
     "output_type": "display_data"
    },
    {
     "data": {
      "image/png": "[encoded data removed]",
      "text/plain": [
       "<Figure size 146.652x204.68 with 1 Axes>"
      ]
     },
     "metadata": {},
     "output_type": "display_data"
    },
    {
     "data": {
      "image/png": "[encoded data removed]",
      "text/plain": [
       "<Figure size 206.852x204.68 with 1 Axes>"
      ]
     },
     "metadata": {},
     "output_type": "display_data"
    },
    {
     "data": {
      "image/png": "[encoded data removed]",
      "text/plain": [
       "<Figure size 327.252x204.68 with 1 Axes>"
      ]
     },
     "metadata": {},
     "output_type": "display_data"
    },
    {
     "data": {
      "image/png": "[encoded data removed]",
      "text/plain": [
       "<Figure size 504x360 with 1 Axes>"
      ]
     },
     "execution_count": 18,
     "metadata": {},
     "output_type": "execute_result"
    }
   ],
   "source": [
    "\n",
    "%matplotlib inline\n",
    "from qiskit import *\n",
    "\n",
    "circuit = QuantumCircuit(2, 2)\n",
    "\n",
    "display(circuit.draw(output='mpl'))\n",
    "\n",
    "# Lisätään Hadamard-portti H \n",
    "circuit.h(0)\n",
    "display(circuit.draw(output='mpl'))\n",
    "\n",
    "# Lisätään kvanttipiiriin CNOT-portti cx()-komennolla\n",
    "circuit.cx(0, 1)\n",
    "display(circuit.draw(output='mpl'))\n",
    "\n",
    "# Mitataan molemmat kubitit, ja tallennetaan tulokset klassiseen rekisteriin\n",
    "circuit.measure([0, 1], [0, 1])\n",
    "display(circuit.draw(output='mpl'))\n",
    "\n",
    "# Simuloidaan piirin toiminta.\n",
    "simulator = Aer.get_backend('qasm_simulator')\n",
    "execute(circuit, backend=simulator)\n",
    "result = execute(circuit, backend=simulator).result()\n",
    "from qiskit.tools.visualization import plot_histogram\n",
    "plot_histogram(result.get_counts(circuit))"
   ]
  },
  {
   "attachments": {},
   "cell_type": "markdown",
   "metadata": {},
   "source": [
    "##  Oppimateriaaleja kierros 1\n",
    "\n",
    "\n",
    "Alla on listattu 1.kierrokseen ja 2.kierrokseen liittyviä lisämateriaalia harrastuneille.\n",
    "\n",
    "[Python-ohjelmoinnin perusteet](https://www.lukemaverkosto.fi/materiaali/algoritmit-ja-ohjelmointi-lukion-matematiikassa/)\n",
    "\n",
    "Vektorit:\n",
    "\n",
    "\n",
    "<a href =\"https://youtu.be/fNk_zzaMoSs\" target =\"_blank\">Vektorit lineaarialgebrassa</a>\n",
    "\n",
    "\n",
    "<a href =\"https://www.lukemaverkosto.fi/materiaali/valokuvien-matematiikkaa-geogebralla-ja-ohjelmoimalla-osa-1-2/\" target =\"_blank\">Lisätietoa: Vektorit ja Matriisikuvaukset lineaarialgebrassa</a>\n",
    "\n",
    "Kvantti-interferenssi:\n",
    "\n",
    "<a href =\"https://youtu.be/Q1YqgPAtzho\" target =\"_blank\"> Kvantti-interferenssi kaksoisrakokokeessa</a>\n",
    "\n",
    "\n",
    "\n",
    "\n"
   ]
  }
 ],
 "metadata": {
  "kernelspec": {
   "display_name": "Python 3",
   "language": "python",
   "name": "python3"
  },
  "language_info": {
   "codemirror_mode": {
    "name": "ipython",
    "version": 3
   },
   "file_extension": ".py",
   "mimetype": "text/x-python",
   "name": "python",
   "nbconvert_exporter": "python",
   "pygments_lexer": "ipython3",
   "version": "3.9.13 (v3.9.13:6de2ca5339, May 17 2022, 11:37:23) \n[Clang 13.0.0 (clang-1300.0.29.30)]"
  },
  "vscode": {
   "interpreter": {
    "hash": "aee8b7b246df8f9039afb4144a1f6fd8d2ca17a180786b69acc140d282b71a49"
   }
  }
 },
 "nbformat": 4,
 "nbformat_minor": 2
}
